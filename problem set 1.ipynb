{
 "cells": [
  {
   "cell_type": "markdown",
   "id": "a807fe8f",
   "metadata": {},
   "source": [
    "### QUESTION 1"
   ]
  },
  {
   "cell_type": "code",
   "execution_count": 1,
   "id": "f680c2d6",
   "metadata": {},
   "outputs": [
    {
     "name": "stdout",
     "output_type": "stream",
     "text": [
      "<class 'int'>\n"
     ]
    }
   ],
   "source": [
    "a=5\n",
    "type(a)\n",
    "print(type(a))"
   ]
  },
  {
   "cell_type": "code",
   "execution_count": 2,
   "id": "bcc32dcb",
   "metadata": {},
   "outputs": [
    {
     "name": "stdout",
     "output_type": "stream",
     "text": [
      "<class 'float'>\n"
     ]
    }
   ],
   "source": [
    "b=5.0\n",
    "type(b)\n",
    "print(type(b))"
   ]
  },
  {
   "cell_type": "code",
   "execution_count": 3,
   "id": "13df0df8",
   "metadata": {},
   "outputs": [
    {
     "name": "stdout",
     "output_type": "stream",
     "text": [
      "<class 'bool'>\n"
     ]
    }
   ],
   "source": [
    "c=5 > 1\n",
    "type(c)\n",
    "print(type(c))"
   ]
  },
  {
   "cell_type": "code",
   "execution_count": 4,
   "id": "33402f18",
   "metadata": {},
   "outputs": [
    {
     "name": "stdout",
     "output_type": "stream",
     "text": [
      "<class 'str'>\n"
     ]
    }
   ],
   "source": [
    "d='5'\n",
    "type(d)\n",
    "print(type(d))"
   ]
  },
  {
   "cell_type": "code",
   "execution_count": 5,
   "id": "44ce415d",
   "metadata": {},
   "outputs": [
    {
     "name": "stdout",
     "output_type": "stream",
     "text": [
      "<class 'int'>\n"
     ]
    }
   ],
   "source": [
    "e=5 * 2\n",
    "type(e)\n",
    "print(type(e))"
   ]
  },
  {
   "cell_type": "code",
   "execution_count": 6,
   "id": "76abcc07",
   "metadata": {},
   "outputs": [
    {
     "name": "stdout",
     "output_type": "stream",
     "text": [
      "<class 'str'>\n"
     ]
    }
   ],
   "source": [
    "f='5' * 2\n",
    "type(f)\n",
    "print(type(f))"
   ]
  },
  {
   "cell_type": "code",
   "execution_count": 7,
   "id": "5c02cf20",
   "metadata": {},
   "outputs": [
    {
     "name": "stdout",
     "output_type": "stream",
     "text": [
      "<class 'str'>\n"
     ]
    }
   ],
   "source": [
    "g='5' + '2'\n",
    "type(g)\n",
    "print(type(g))"
   ]
  },
  {
   "cell_type": "code",
   "execution_count": 8,
   "id": "490165ed",
   "metadata": {},
   "outputs": [
    {
     "name": "stdout",
     "output_type": "stream",
     "text": [
      "<class 'float'>\n"
     ]
    }
   ],
   "source": [
    "h=5 / 2\n",
    "type(h)\n",
    "print(type(h))"
   ]
  },
  {
   "cell_type": "code",
   "execution_count": 10,
   "id": "af676af3",
   "metadata": {},
   "outputs": [
    {
     "name": "stdout",
     "output_type": "stream",
     "text": [
      "<class 'int'>\n"
     ]
    }
   ],
   "source": [
    "i=5 % 2\n",
    "type(i)\n",
    "print(type(i))"
   ]
  },
  {
   "cell_type": "code",
   "execution_count": 11,
   "id": "ad77f073",
   "metadata": {},
   "outputs": [
    {
     "name": "stdout",
     "output_type": "stream",
     "text": [
      "<class 'set'>\n"
     ]
    }
   ],
   "source": [
    "j={5, 2, 1}\n",
    "type(j)\n",
    "print(type(j))"
   ]
  },
  {
   "cell_type": "code",
   "execution_count": 12,
   "id": "651b5a43",
   "metadata": {},
   "outputs": [
    {
     "name": "stdout",
     "output_type": "stream",
     "text": [
      "<class 'bool'>\n"
     ]
    }
   ],
   "source": [
    "k=5 == 3\n",
    "type(k)\n",
    "print(type(k))"
   ]
  },
  {
   "cell_type": "code",
   "execution_count": 15,
   "id": "ba6963c4",
   "metadata": {},
   "outputs": [
    {
     "name": "stdout",
     "output_type": "stream",
     "text": [
      "<class 'float'>\n"
     ]
    }
   ],
   "source": [
    "import math\n",
    "value=math.pi\n",
    "type(value)\n",
    "print(type(value))"
   ]
  },
  {
   "cell_type": "markdown",
   "id": "5f32d23b",
   "metadata": {},
   "source": [
    "### QUESTION 2"
   ]
  },
  {
   "cell_type": "markdown",
   "id": "8699c7ac",
   "metadata": {},
   "source": [
    "(A)"
   ]
  },
  {
   "cell_type": "code",
   "execution_count": 17,
   "id": "c8cfec4c",
   "metadata": {},
   "outputs": [
    {
     "name": "stdout",
     "output_type": "stream",
     "text": [
      "34\n"
     ]
    }
   ],
   "source": [
    "a=\"Supercalifragilisticexpialidocious\"\n",
    "len(a)\n",
    "print(len(a))"
   ]
  },
  {
   "cell_type": "markdown",
   "id": "b5bdc9c9",
   "metadata": {},
   "source": [
    "(B)"
   ]
  },
  {
   "cell_type": "code",
   "execution_count": 23,
   "id": "a1240d99",
   "metadata": {},
   "outputs": [
    {
     "name": "stdout",
     "output_type": "stream",
     "text": [
      "true\n"
     ]
    }
   ],
   "source": [
    "string=\"Supercalifragilisticexpialidocious\"\n",
    "substring=\"ice\"\n",
    "if substring in string:\n",
    "    print(\"true\")\n",
    "else:\n",
    "    print(\"false\")"
   ]
  },
  {
   "cell_type": "markdown",
   "id": "edc899de",
   "metadata": {},
   "source": [
    "(c)"
   ]
  },
  {
   "cell_type": "code",
   "execution_count": 77,
   "id": "e1c3aaea",
   "metadata": {},
   "outputs": [
    {
     "name": "stdout",
     "output_type": "stream",
     "text": [
      "Supercalifragilisticexpialidocious is bigger\n",
      "34\n"
     ]
    }
   ],
   "source": [
    "a=\"Supercalifragilisticexpialidocious\"\n",
    "b=\"Honorificabilitudinitatibus\"\n",
    "c=\"Bababadalgharaghtakamminarronnkonn\"\n",
    "if a>=b and  a>=c:\n",
    "    print(a,'is bigger')\n",
    "    print(len(a))\n",
    "if b>=a and b>=c:\n",
    "    print(len(b))\n",
    "if c>=a and c>=b:\n",
    "    print(len(c))"
   ]
  },
  {
   "cell_type": "markdown",
   "id": "22244f74",
   "metadata": {},
   "source": [
    "(D)"
   ]
  },
  {
   "cell_type": "code",
   "execution_count": 32,
   "id": "fa044421",
   "metadata": {},
   "outputs": [
    {
     "name": "stdout",
     "output_type": "stream",
     "text": [
      "['Bartok', 'Bellini', 'Berlioz', 'Bernstein', 'Borodin', 'Brian', 'Buxtehude']\n"
     ]
    }
   ],
   "source": [
    "composer=['Berlioz','Borodin','Brian','Bartok','Bellini','Buxtehude','Bernstein']\n",
    "composer.sort()\n",
    "print(composer)"
   ]
  },
  {
   "cell_type": "markdown",
   "id": "560fe569",
   "metadata": {},
   "source": [
    "### QUESTION 3"
   ]
  },
  {
   "cell_type": "code",
   "execution_count": 40,
   "id": "033c153b",
   "metadata": {},
   "outputs": [
    {
     "name": "stdout",
     "output_type": "stream",
     "text": [
      "3.0\n",
      "3.0\n",
      "1.7320508075688772\n"
     ]
    }
   ],
   "source": [
    "def triangleArea(a,b,c):\n",
    "    s=(a+b+c)/2\n",
    "    print(s)\n",
    "    A=(s*(s-a)*(s-b)*(s-c))\n",
    "    print(A)\n",
    "    import math\n",
    "    J=math.sqrt(A)\n",
    "    print(J)\n",
    "triangleArea(2,2,2)    \n"
   ]
  },
  {
   "cell_type": "markdown",
   "id": "8c66530d",
   "metadata": {},
   "source": [
    "### QUESTION 4"
   ]
  },
  {
   "cell_type": "code",
   "execution_count": 46,
   "id": "3b2afadd",
   "metadata": {},
   "outputs": [
    {
     "name": "stdout",
     "output_type": "stream",
     "text": [
      "The Even elements are: [42, 56, 32]\n",
      "The Odd elements are: [25, 47]\n"
     ]
    }
   ],
   "source": [
    "def splitevenodd():\n",
    "    A=[25,47,42,56,32]\n",
    "    even_list = [] \n",
    "    odd_list = [] \n",
    "    for i in A: \n",
    "        if (i % 2 == 0): \n",
    "            even_list.append(i) \n",
    "        else: \n",
    "            odd_list.append(i) \n",
    "    print(\"The Even elements are:\", even_list) \n",
    "    print(\"The Odd elements are:\", odd_list) \n",
    "splitevenodd()"
   ]
  },
  {
   "cell_type": "markdown",
   "id": "44c70e3d",
   "metadata": {},
   "source": [
    "### QUESTION 5"
   ]
  },
  {
   "cell_type": "markdown",
   "id": "ae14634a",
   "metadata": {},
   "source": [
    "(A)"
   ]
  },
  {
   "cell_type": "code",
   "execution_count": 51,
   "id": "e1a10812",
   "metadata": {},
   "outputs": [
    {
     "name": "stdout",
     "output_type": "stream",
     "text": [
      "True\n",
      "False\n"
     ]
    }
   ],
   "source": [
    "def inside(x,y,x1,y1,x2,y2):\n",
    "    if x1<=x<=x2 and y1<=y<y2:\n",
    "        return True\n",
    "    else:\n",
    "        return False\n",
    "print(inside(1,1,0,0,2,3))\n",
    "print(inside(-1,-1,0,0,2,3))"
   ]
  },
  {
   "cell_type": "markdown",
   "id": "5109f67e",
   "metadata": {},
   "source": [
    "(B)"
   ]
  },
  {
   "cell_type": "code",
   "execution_count": 16,
   "id": "00c2926d",
   "metadata": {},
   "outputs": [
    {
     "name": "stdout",
     "output_type": "stream",
     "text": [
      "False\n",
      "True\n"
     ]
    }
   ],
   "source": [
    "def inside(x,y,x1,y1,x2,y2):\n",
    "    if x1<=x<=x2 and y1<=y<y2:\n",
    "        return True\n",
    "    else:\n",
    "        return False\n",
    "print(inside(1,1,0.3,0.5,1.1,0.7))\n",
    "print(inside(1,1,0.5,0.2,1.1,2))"
   ]
  },
  {
   "cell_type": "markdown",
   "id": "3bd91730",
   "metadata": {},
   "source": [
    "### QUESTION 6"
   ]
  },
  {
   "cell_type": "code",
   "execution_count": 26,
   "id": "36f38294",
   "metadata": {},
   "outputs": [
    {
     "name": "stdout",
     "output_type": "stream",
     "text": [
      "appyhay\n",
      "enterway\n"
     ]
    }
   ],
   "source": [
    "def pig_Latin(a):\n",
    "    if (a[0] in ('a','e','i','o','u','A','E','I','O','U')):\n",
    "        return a.lower()+'way'\n",
    "    else:\n",
    "        return a[1:].lower()+a[0].lower()+'ay'\n",
    "print(pig_Latin('happy'))\n",
    "print(pig_Latin('enter'))\n",
    "    "
   ]
  },
  {
   "cell_type": "markdown",
   "id": "b4e1ae93",
   "metadata": {},
   "source": [
    "### QUESTION 7"
   ]
  },
  {
   "cell_type": "code",
   "execution_count": 92,
   "id": "0a2d4326",
   "metadata": {},
   "outputs": [
    {
     "name": "stdout",
     "output_type": "stream",
     "text": [
      "There are patients of blood type A, 10\n",
      "There are patients of blood type B one\n",
      "There are patients of blood type AB 10\n",
      "There are patients of blood type O 12\n",
      "There are patients of blood type OO no\n"
     ]
    }
   ],
   "source": [
    "def bldcount(bloodtype):\n",
    "    s = open(bloodtype, 'r')\n",
    "    #blood_types['A','B','AB','O','OO']\n",
    "    f = s.read()\n",
    "    O=0\n",
    "    OO=0\n",
    "    A=int(f.count(' A '))\n",
    "    B=int(f.count(' B '))\n",
    "    if(B==1):\n",
    "        B='one'\n",
    "    AB=int(f.count(' AB '))\n",
    "    O=int(f.count(' O '))\n",
    "    OO=int(f.count(' OO '))\n",
    "    if(OO==0):\n",
    "        OO='no'\n",
    "    \n",
    "    print('There are patients of blood type A,', A)\n",
    "    print('There are patients of blood type B', B)\n",
    "    print('There are patients of blood type AB', AB)\n",
    "    print('There are patients of blood type O', O)\n",
    "    print('There are patients of blood type OO', OO)\n",
    "   \n",
    "bldcount('bloodtype1.txt')"
   ]
  },
  {
   "cell_type": "markdown",
   "id": "9d3f0ac0",
   "metadata": {},
   "source": [
    "### QUESTION 8"
   ]
  },
  {
   "cell_type": "code",
   "execution_count": 65,
   "id": "7f3daf3d",
   "metadata": {},
   "outputs": [
    {
     "name": "stdout",
     "output_type": "stream",
     "text": [
      "122.96544\n",
      "1.241401\n"
     ]
    }
   ],
   "source": [
    "def curconv(value,amount):\n",
    "    openfile = open('currencies.txt','r')\n",
    "    readfile = openfile.readlines()\n",
    "    \n",
    "    for line in readfile:\n",
    "        #print(line)\n",
    "        \n",
    "        spl=line.split('\\t')\n",
    "        if(value==spl[0]):\n",
    "            value=float(spl[1])*amount\n",
    "            return value\n",
    "        \n",
    "#print(curconv('JPY', 100))\n",
    "print(curconv('EUR',100))\n",
    "print(curconv('JPY',100))"
   ]
  },
  {
   "cell_type": "markdown",
   "id": "d23daee0",
   "metadata": {},
   "source": [
    "### QUESTION 9"
   ]
  },
  {
   "cell_type": "code",
   "execution_count": 68,
   "id": "ac1e4ae0",
   "metadata": {},
   "outputs": [
    {
     "ename": "TypeError",
     "evalue": "unsupported operand type(s) for +: 'int' and 'str'",
     "output_type": "error",
     "traceback": [
      "\u001b[1;31m---------------------------------------------------------------------------\u001b[0m",
      "\u001b[1;31mTypeError\u001b[0m                                 Traceback (most recent call last)",
      "\u001b[1;32m~\\AppData\\Local\\Temp\\ipykernel_9892\\3627028457.py\u001b[0m in \u001b[0;36m<module>\u001b[1;34m\u001b[0m\n\u001b[1;32m----> 1\u001b[1;33m \u001b[0mprint\u001b[0m\u001b[1;33m(\u001b[0m\u001b[1;36m6\u001b[0m \u001b[1;33m+\u001b[0m \u001b[1;34m'a'\u001b[0m\u001b[1;33m)\u001b[0m\u001b[1;33m\u001b[0m\u001b[1;33m\u001b[0m\u001b[0m\n\u001b[0m",
      "\u001b[1;31mTypeError\u001b[0m: unsupported operand type(s) for +: 'int' and 'str'"
     ]
    }
   ],
   "source": [
    "print(6 + 'a')"
   ]
  },
  {
   "cell_type": "markdown",
   "id": "c76a9d8d",
   "metadata": {},
   "source": [
    "we cannot concatenate string and integer together\n"
   ]
  },
  {
   "cell_type": "code",
   "execution_count": 70,
   "id": "7e4d9bb6",
   "metadata": {},
   "outputs": [
    {
     "ename": "IndexError",
     "evalue": "list index out of range",
     "output_type": "error",
     "traceback": [
      "\u001b[1;31m---------------------------------------------------------------------------\u001b[0m",
      "\u001b[1;31mIndexError\u001b[0m                                Traceback (most recent call last)",
      "\u001b[1;32m~\\AppData\\Local\\Temp\\ipykernel_9892\\1921201794.py\u001b[0m in \u001b[0;36m<module>\u001b[1;34m\u001b[0m\n\u001b[0;32m      1\u001b[0m \u001b[0mA\u001b[0m \u001b[1;33m=\u001b[0m \u001b[1;33m[\u001b[0m\u001b[1;36m1\u001b[0m\u001b[1;33m,\u001b[0m\u001b[1;36m2\u001b[0m\u001b[1;33m,\u001b[0m\u001b[1;36m3\u001b[0m\u001b[1;33m,\u001b[0m\u001b[1;36m4\u001b[0m\u001b[1;33m,\u001b[0m\u001b[1;36m5\u001b[0m\u001b[1;33m,\u001b[0m\u001b[1;36m6\u001b[0m\u001b[1;33m,\u001b[0m\u001b[1;36m7\u001b[0m\u001b[1;33m,\u001b[0m\u001b[1;36m8\u001b[0m\u001b[1;33m,\u001b[0m\u001b[1;36m9\u001b[0m\u001b[1;33m,\u001b[0m\u001b[1;36m10\u001b[0m\u001b[1;33m]\u001b[0m\u001b[1;33m\u001b[0m\u001b[1;33m\u001b[0m\u001b[0m\n\u001b[1;32m----> 2\u001b[1;33m \u001b[0mprint\u001b[0m\u001b[1;33m(\u001b[0m\u001b[0mA\u001b[0m\u001b[1;33m[\u001b[0m\u001b[1;36m12\u001b[0m\u001b[1;33m]\u001b[0m\u001b[1;33m)\u001b[0m\u001b[1;33m\u001b[0m\u001b[1;33m\u001b[0m\u001b[0m\n\u001b[0m",
      "\u001b[1;31mIndexError\u001b[0m: list index out of range"
     ]
    }
   ],
   "source": [
    "A = [1,2,3,4,5,6,7,8,9,10]\n",
    "print(A[12])"
   ]
  },
  {
   "cell_type": "markdown",
   "id": "337fb043",
   "metadata": {},
   "source": [
    "list index out of Range"
   ]
  },
  {
   "cell_type": "code",
   "execution_count": 72,
   "id": "096047ed",
   "metadata": {},
   "outputs": [
    {
     "ename": "ValueError",
     "evalue": "math domain error",
     "output_type": "error",
     "traceback": [
      "\u001b[1;31m---------------------------------------------------------------------------\u001b[0m",
      "\u001b[1;31mValueError\u001b[0m                                Traceback (most recent call last)",
      "\u001b[1;32m~\\AppData\\Local\\Temp\\ipykernel_9892\\3755102649.py\u001b[0m in \u001b[0;36m<module>\u001b[1;34m\u001b[0m\n\u001b[0;32m      1\u001b[0m \u001b[1;32mimport\u001b[0m \u001b[0mmath\u001b[0m\u001b[1;33m\u001b[0m\u001b[1;33m\u001b[0m\u001b[0m\n\u001b[1;32m----> 2\u001b[1;33m \u001b[0mprint\u001b[0m\u001b[1;33m(\u001b[0m\u001b[0mmath\u001b[0m\u001b[1;33m.\u001b[0m\u001b[0msqrt\u001b[0m\u001b[1;33m(\u001b[0m\u001b[1;33m-\u001b[0m\u001b[1;36m1.0\u001b[0m\u001b[1;33m)\u001b[0m\u001b[1;33m)\u001b[0m\u001b[1;33m\u001b[0m\u001b[1;33m\u001b[0m\u001b[0m\n\u001b[0m",
      "\u001b[1;31mValueError\u001b[0m: math domain error"
     ]
    }
   ],
   "source": [
    "import math\n",
    "print(math.sqrt(-1.0))"
   ]
  },
  {
   "cell_type": "markdown",
   "id": "48606cdc",
   "metadata": {},
   "source": [
    "math domain error"
   ]
  },
  {
   "cell_type": "code",
   "execution_count": 73,
   "id": "e87a3879",
   "metadata": {},
   "outputs": [
    {
     "ename": "NameError",
     "evalue": "name 'x' is not defined",
     "output_type": "error",
     "traceback": [
      "\u001b[1;31m---------------------------------------------------------------------------\u001b[0m",
      "\u001b[1;31mNameError\u001b[0m                                 Traceback (most recent call last)",
      "\u001b[1;32m~\\AppData\\Local\\Temp\\ipykernel_9892\\1353120783.py\u001b[0m in \u001b[0;36m<module>\u001b[1;34m\u001b[0m\n\u001b[1;32m----> 1\u001b[1;33m \u001b[0mprint\u001b[0m\u001b[1;33m(\u001b[0m\u001b[0mx\u001b[0m\u001b[1;33m)\u001b[0m\u001b[1;33m\u001b[0m\u001b[1;33m\u001b[0m\u001b[0m\n\u001b[0m",
      "\u001b[1;31mNameError\u001b[0m: name 'x' is not defined"
     ]
    }
   ],
   "source": [
    "print(x)"
   ]
  },
  {
   "cell_type": "markdown",
   "id": "4e2dc052",
   "metadata": {},
   "source": [
    "variable is not defined"
   ]
  },
  {
   "cell_type": "code",
   "execution_count": 74,
   "id": "7ff1a1df",
   "metadata": {},
   "outputs": [
    {
     "ename": "NameError",
     "evalue": "name 'solution' is not defined",
     "output_type": "error",
     "traceback": [
      "\u001b[1;31m---------------------------------------------------------------------------\u001b[0m",
      "\u001b[1;31mNameError\u001b[0m                                 Traceback (most recent call last)",
      "\u001b[1;32m~\\AppData\\Local\\Temp\\ipykernel_9892\\2734401165.py\u001b[0m in \u001b[0;36m<module>\u001b[1;34m\u001b[0m\n\u001b[1;32m----> 1\u001b[1;33m \u001b[0mopen\u001b[0m\u001b[1;33m(\u001b[0m\u001b[0msolution\u001b[0m\u001b[1;33m.\u001b[0m\u001b[0mtxt\u001b[0m\u001b[1;33m)\u001b[0m\u001b[1;33m\u001b[0m\u001b[1;33m\u001b[0m\u001b[0m\n\u001b[0m",
      "\u001b[1;31mNameError\u001b[0m: name 'solution' is not defined"
     ]
    }
   ],
   "source": [
    "open(solution.txt)"
   ]
  },
  {
   "cell_type": "markdown",
   "id": "aabbc10e",
   "metadata": {},
   "source": [
    "file does not exist"
   ]
  },
  {
   "cell_type": "markdown",
   "id": "3d0992bd",
   "metadata": {},
   "source": [
    "### QUESTION 10 "
   ]
  },
  {
   "cell_type": "code",
   "execution_count": 84,
   "id": "39713e59",
   "metadata": {},
   "outputs": [
    {
     "name": "stdout",
     "output_type": "stream",
     "text": [
      "[1, 1, 1, 3, 5, 1, 1, 2, 1, 0, 1, 0, 1, 2, 4, 0, 1, 2, 0, 3, 1, 0, 1, 1, 0, 0]\n",
      "[1, 0, 0, 0, 1, 0, 0, 0, 0, 0, 0, 1, 0, 0, 0, 2, 0, 0, 0, 0, 0, 0, 0, 0, 0, 0]\n"
     ]
    }
   ],
   "source": [
    "def frequencies(text):\n",
    "    alphabets = 'abcdefghijklmnopqrstuvwxyz'\n",
    "    frequency_list = [0] * 26\n",
    "    b=text.lower()\n",
    "    for element in b:\n",
    "        if element in alphabets:\n",
    "            index = alphabets.index(element)\n",
    "            frequency_list[index] += 1\n",
    "    return frequency_list\n",
    "\n",
    "print(frequencies(\"The quick red fox got bored and went home.\"))\n",
    "print(frequencies(\"apple\"))"
   ]
  }
 ],
 "metadata": {
  "kernelspec": {
   "display_name": "Python 3 (ipykernel)",
   "language": "python",
   "name": "python3"
  },
  "language_info": {
   "codemirror_mode": {
    "name": "ipython",
    "version": 3
   },
   "file_extension": ".py",
   "mimetype": "text/x-python",
   "name": "python",
   "nbconvert_exporter": "python",
   "pygments_lexer": "ipython3",
   "version": "3.9.13"
  }
 },
 "nbformat": 4,
 "nbformat_minor": 5
}
